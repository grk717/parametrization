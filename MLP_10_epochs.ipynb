{
 "cells": [
  {
   "cell_type": "code",
   "execution_count": 1,
   "metadata": {},
   "outputs": [],
   "source": [
    "import torch\n",
    "import torch.nn as nn\n",
    "import torchvision\n",
    "import torch.nn.functional as F\n",
    "import torchvision.transforms as transforms\n",
    "from torchvision.models import resnet18\n",
    "from tqdm import tqdm\n",
    "import torch.nn.utils.parametrize as parametrize\n",
    "from torchvision.models import mobilenet_v2\n",
    "import math\n",
    "from clearml import Task\n",
    "\n",
    "torch.manual_seed(0)\n",
    "device = 'cuda' if torch.cuda.is_available() else 'cpu'\n",
    "if device == 'cuda':\n",
    "    autocast = torch.cuda.amp.autocast(dtype=torch.float16)\n",
    "    grad_scaler = torch.cuda.amp.GradScaler()\n",
    "else:\n",
    "    autocast = torch.cpu.amp.autocast(dtype=torch.float16)\n",
    "    grad_scaler = torch.cpu.amp.GradScaler()\n",
    "\n",
    "\n",
    "batch_size = 64\n",
    "lr = 0.01\n",
    "momentum = 0.9\n",
    "epochs = 10"
   ]
  },
  {
   "cell_type": "code",
   "execution_count": 2,
   "metadata": {},
   "outputs": [],
   "source": [
    "class MLP(nn.Module):\n",
    "    def __init__(self, input_size, output_size, num_params):\n",
    "        super(MLP, self).__init__()\n",
    "        \n",
    "        depth = int(num_params ** 0.2)  # Adjust this factor as needed\n",
    "        hidden_size = int((num_params / (depth))**0.5)  # Adjust this factor as needed\n",
    "        layers = []\n",
    "        for _ in range(depth):\n",
    "            layers.append(nn.Linear(input_size, hidden_size))\n",
    "            layers.append(nn.ReLU())\n",
    "            layers.append(nn.BatchNorm1d(hidden_size))\n",
    "            input_size = hidden_size\n",
    "        layers.append(nn.Linear(input_size, output_size))  # Output size matching the conv output channels\n",
    "        self.mlp = nn.Sequential(*layers)\n",
    "\n",
    "    def forward(self, x):\n",
    "        return self.mlp(x)"
   ]
  },
  {
   "cell_type": "code",
   "execution_count": 3,
   "metadata": {},
   "outputs": [],
   "source": [
    "class MLPParametrization(torch.nn.Module):\n",
    "     def __init__(self, kernel_size, in_channels, out_channels, groups):\n",
    "          super(MLPParametrization, self).__init__()\n",
    "          self.MLPLayer = MLP(2, kernel_size**2, kernel_size*kernel_size*in_channels*out_channels / groups)\n",
    "          self.kernel_size = kernel_size\n",
    "          self.in_channels = in_channels\n",
    "          self.out_channels = out_channels\n",
    "          self.groups = groups\n",
    "          self.x_grid = torch.linspace(-1, 1, int(in_channels / self.groups))\n",
    "          self.y_grid = torch.linspace(-1, 1, out_channels)\n",
    "          self.grid = torch.cartesian_prod(self.x_grid, self.y_grid)\n",
    "\n",
    "     def forward(self, x):\n",
    "          A = self.MLPLayer(self.grid.to(x.device)).view((self.out_channels, int(self.in_channels / self.groups), self.kernel_size, self.kernel_size))\n",
    "          return A\n",
    "          "
   ]
  },
  {
   "cell_type": "code",
   "execution_count": 4,
   "metadata": {},
   "outputs": [],
   "source": [
    "def parametrize_resnet(model):\n",
    "    for name, layer in model.named_modules():\n",
    "        if isinstance(layer, nn.Conv2d):\n",
    "            parametrizator = MLPParametrization(layer.kernel_size[0], layer.in_channels, layer.out_channels, layer.groups)\n",
    "            parametrize.register_parametrization(layer, \"weight\", parametrizator)"
   ]
  },
  {
   "cell_type": "code",
   "execution_count": 5,
   "metadata": {},
   "outputs": [
    {
     "name": "stdout",
     "output_type": "stream",
     "text": [
      "Files already downloaded and verified\n",
      "Files already downloaded and verified\n"
     ]
    }
   ],
   "source": [
    "transform = transforms.Compose(\n",
    "    [transforms.ToTensor(),\n",
    "     transforms.Normalize((0.5, 0.5, 0.5), (0.5, 0.5, 0.5))])\n",
    "\n",
    "configuration_dict = {'batch_size': batch_size, 'lr': lr, 'momentum': momentum, 'epochs': epochs}\n",
    "trainset = torchvision.datasets.CIFAR10(root='./data', train=True,\n",
    "                                        download=True, transform=transform)\n",
    "trainloader = torch.utils.data.DataLoader(trainset, batch_size=batch_size,\n",
    "                                          shuffle=True, num_workers=2)\n",
    "\n",
    "testset = torchvision.datasets.CIFAR10(root='./data', train=False,\n",
    "                                       download=True, transform=transform)\n",
    "testloader = torch.utils.data.DataLoader(testset, batch_size=batch_size,\n",
    "                                         shuffle=False, num_workers=2)\n",
    "iterations_in_epoch = math.ceil(len(trainset) / batch_size)\n",
    "classes = ('plane', 'car', 'bird', 'cat',\n",
    "           'deer', 'dog', 'frog', 'horse', 'ship', 'truck')"
   ]
  },
  {
   "cell_type": "code",
   "execution_count": 6,
   "metadata": {},
   "outputs": [],
   "source": [
    "class Net(nn.Module):\n",
    "    def __init__(self):\n",
    "        super(Net, self).__init__()\n",
    "\n",
    "\n",
    "        # input channel, output filter, kernel size\n",
    "        self.conv1 = nn.Conv2d(3, 64, 5, padding=2)\n",
    "        self.conv2 = nn.Conv2d(64, 128, 5, padding=2)\n",
    "        self.conv3 = nn.Conv2d(128, 256, 3)\n",
    "\n",
    "        self.BatchNorm2d1 = nn.BatchNorm2d(64)\n",
    "        self.BatchNorm2d2 = nn.BatchNorm2d(128)\n",
    "        self.BatchNorm2d3 = nn.BatchNorm2d(256)\n",
    "\n",
    "        self.BatchNorm2d4 = nn.BatchNorm2d(120)\n",
    "\n",
    "\n",
    "\n",
    "        self.pool = nn.MaxPool2d(2, 2)\n",
    "        self.dropout = nn.Dropout(p=0)\n",
    "\n",
    "        self.fc1 = nn.Linear(256 * 3 * 3, 120)\n",
    "        self.fc2 = nn.Linear(120, 84)\n",
    "        self.fc3 = nn.Linear(84, 10)\n",
    "\n",
    "    def forward(self, x):\n",
    "        x = self.BatchNorm2d1(self.pool(F.leaky_relu(self.conv1(x))))\n",
    "        x = self.BatchNorm2d2(self.pool(F.leaky_relu(self.conv2(x))))\n",
    "        x = self.BatchNorm2d3(self.pool(F.leaky_relu(self.conv3(x))))\n",
    "        x = x.view(-1, 256 * 3 * 3)\n",
    "        x = self.dropout(F.leaky_relu(self.fc1(x)))\n",
    "        x = self.dropout(F.leaky_relu(self.fc2(x)))\n",
    "        x = self.fc3(x)\n",
    "        return x"
   ]
  },
  {
   "cell_type": "code",
   "execution_count": 7,
   "metadata": {},
   "outputs": [
    {
     "name": "stdout",
     "output_type": "stream",
     "text": [
      "Number of before parametrizing 793710\n",
      "Number of params after parametrizing 1266777\n"
     ]
    }
   ],
   "source": [
    "net = Net()\n",
    "print(f'Number of before parametrizing {sum(p.numel() for p in net.parameters())}')\n",
    "parametrize_resnet(net)\n",
    "net.to(device)\n",
    "print(f'Number of params after parametrizing {sum(p.numel() for p in net.parameters())}')"
   ]
  },
  {
   "cell_type": "code",
   "execution_count": 8,
   "metadata": {},
   "outputs": [
    {
     "name": "stdout",
     "output_type": "stream",
     "text": [
      "ClearML Task: created new task id=c9b80a44d1394705b31fa6947942a24b\n",
      "2023-08-11 12:32:34,121 - clearml.Task - INFO - Storing jupyter notebook directly as code\n",
      "ClearML results page: https://app.clear.ml/projects/f88e6dc889294a42833934ab069b799f/experiments/c9b80a44d1394705b31fa6947942a24b/output/log\n"
     ]
    }
   ],
   "source": [
    "task_name = f'MLP_batch{batch_size}_lr{lr}_epochs{epochs}_simple_convnet_bn'\n",
    "task = Task.init(project_name=\"mlp_parametrization\", task_name=task_name)\n",
    "\n",
    "configuration_dict = task.connect(\n",
    "    configuration_dict\n",
    ")\n",
    "logger = task.get_logger()"
   ]
  },
  {
   "cell_type": "code",
   "execution_count": 9,
   "metadata": {},
   "outputs": [],
   "source": [
    "import torch.optim as optim\n",
    "\n",
    "param_list = [param for name, param in net.named_parameters() if \"parametrizations.\" in name]\n",
    "criterion = nn.CrossEntropyLoss()\n",
    "optimizer = optim.SGD(param_list, lr=lr, momentum=momentum)\n",
    "scheduler = optim.lr_scheduler.CosineAnnealingLR(optimizer, T_max=10, eta_min=0)"
   ]
  },
  {
   "cell_type": "code",
   "execution_count": null,
   "metadata": {},
   "outputs": [],
   "source": [
    "for epoch in range(epochs):  # loop over the dataset multiple times\n",
    "    running_loss = 0.0\n",
    "    for i, data in enumerate(tqdm(trainloader)):\n",
    "        # get the inputs; data is a list of [inputs, labels]\n",
    "        inputs, labels = data\n",
    "        # zero the parameter gradients\n",
    "        optimizer.zero_grad()\n",
    "        inputs = inputs.to(device)\n",
    "        # forward + backward + optimize\n",
    "        with autocast:\n",
    "            outputs = net(inputs)\n",
    "            loss = criterion(outputs, labels.to(device))\n",
    "        grad_scaler.scale(loss).backward()\n",
    "        grad_scaler.step(optimizer)\n",
    "        grad_scaler.update()\n",
    "        scheduler.step()\n",
    "        # print statistics\n",
    "        running_loss += loss.item()\n",
    "        if i % 50 == 49:    # print every 2000 mini-batches\n",
    "            logger.report_scalar(\n",
    "                title=\"Loss\",\n",
    "                series=\"running_loss\",\n",
    "                iteration=(i + 1) + iterations_in_epoch * (epoch + 1),\n",
    "                value=running_loss / 50,\n",
    "            )\n",
    "            print(running_loss / 50)\n",
    "            running_loss = 0.0"
   ]
  },
  {
   "cell_type": "code",
   "execution_count": 11,
   "metadata": {},
   "outputs": [
    {
     "name": "stdout",
     "output_type": "stream",
     "text": [
      "Accuracy of the network on the 10000 test images: 44 %\n"
     ]
    }
   ],
   "source": [
    "correct = 0\n",
    "total = 0\n",
    "# since we're not training, we don't need to calculate the gradients for our outputs\n",
    "with torch.no_grad():\n",
    "    for data in testloader:\n",
    "        images, labels = data\n",
    "        # calculate outputs by running images through the network\n",
    "        outputs = net(images.to(device))\n",
    "        # the class with the highest energy is what we choose as prediction\n",
    "        _, predicted = torch.max(outputs.data, 1)\n",
    "        total += labels.size(0)\n",
    "        correct += (predicted.cpu() == labels).sum().item()\n",
    "\n",
    "print(f'Accuracy of the network on the 10000 test images: {100 * correct // total} %')\n",
    "logger.report_scalar(\n",
    "    title=\"Metrics\",\n",
    "    series=\"accuracy\",\n",
    "    iteration=len(trainset),\n",
    "    value=100 * correct // total,\n",
    ")"
   ]
  },
  {
   "cell_type": "code",
   "execution_count": null,
   "metadata": {},
   "outputs": [],
   "source": [
    "correct_pred = {classname: 0 for classname in classes}\n",
    "total_pred = {classname: 0 for classname in classes}\n",
    "\n",
    "# again no gradients needed\n",
    "with torch.no_grad():\n",
    "    for data in testloader:\n",
    "        images, labels = data\n",
    "        outputs = net(images.to(device))\n",
    "        _, predictions = torch.max(outputs, 1)\n",
    "        # collect the correct predictions for each class\n",
    "        for label, prediction in zip(labels, predictions):\n",
    "            if label == prediction:\n",
    "                correct_pred[classes[label]] += 1\n",
    "            total_pred[classes[label]] += 1\n",
    "\n",
    "\n",
    "# print accuracy for each class\n",
    "for classname, correct_count in correct_pred.items():\n",
    "    accuracy = 100 * float(correct_count) / total_pred[classname]\n",
    "    print(f'Accuracy for class: {classname:5s} is {accuracy:.1f} %')\n"
   ]
  }
 ],
 "metadata": {
  "kernelspec": {
   "display_name": "Python 3",
   "language": "python",
   "name": "python3"
  },
  "language_info": {
   "codemirror_mode": {
    "name": "ipython",
    "version": 3
   },
   "file_extension": ".py",
   "mimetype": "text/x-python",
   "name": "python",
   "nbconvert_exporter": "python",
   "pygments_lexer": "ipython3",
   "version": "3.8.0"
  },
  "orig_nbformat": 4
 },
 "nbformat": 4,
 "nbformat_minor": 2
}
