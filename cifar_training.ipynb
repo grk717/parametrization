{
 "cells": [
  {
   "cell_type": "code",
   "execution_count": 1,
   "metadata": {},
   "outputs": [],
   "source": [
    "from clearml import Task\n",
    "import torch\n",
    "import torch.nn as nn\n",
    "import torchvision\n",
    "import torchvision.transforms as transforms\n",
    "from torchvision.models import mobilenet_v2\n",
    "from tqdm import tqdm\n",
    "import math\n",
    "\n",
    "\n",
    "batch_size = 64\n",
    "lr = 0.001\n",
    "momentum = 0.9\n",
    "epochs = 10"
   ]
  },
  {
   "cell_type": "code",
   "execution_count": null,
   "metadata": {},
   "outputs": [],
   "source": [
    "transform = transforms.Compose(\n",
    "    [transforms.ToTensor(),\n",
    "     transforms.Normalize((0.5, 0.5, 0.5), (0.5, 0.5, 0.5))])\n",
    "\n",
    "configuration_dict = {'batch_size': batch_size, 'lr': lr, 'momentum': momentum, 'epochs': epochs}\n",
    "trainset = torchvision.datasets.CIFAR10(root='./data', train=True,\n",
    "                                        download=True, transform=transform)\n",
    "trainloader = torch.utils.data.DataLoader(trainset, batch_size=batch_size,\n",
    "                                          shuffle=True, num_workers=2)\n",
    "\n",
    "testset = torchvision.datasets.CIFAR10(root='./data', train=False,\n",
    "                                       download=True, transform=transform)\n",
    "testloader = torch.utils.data.DataLoader(testset, batch_size=batch_size,\n",
    "                                         shuffle=False, num_workers=2)\n",
    "iterations_in_epoch = math.ceil(len(trainset) / batch_size)\n",
    "classes = ('plane', 'car', 'bird', 'cat',\n",
    "           'deer', 'dog', 'frog', 'horse', 'ship', 'truck')"
   ]
  },
  {
   "cell_type": "code",
   "execution_count": 3,
   "metadata": {},
   "outputs": [],
   "source": [
    "class Net(nn.Module):\n",
    "    def __init__(self):\n",
    "        super(Net, self).__init__()\n",
    "\n",
    "\n",
    "        # input channel, output filter, kernel size\n",
    "        self.conv1 = nn.Conv2d(3, 64, 5, padding=2)\n",
    "        self.conv2 = nn.Conv2d(64, 128, 5, padding=2)\n",
    "        self.conv3 = nn.Conv2d(128, 256, 3)\n",
    "\n",
    "        self.BatchNorm2d1 = nn.BatchNorm2d(64)\n",
    "        self.BatchNorm2d2 = nn.BatchNorm2d(128)\n",
    "        self.BatchNorm2d3 = nn.BatchNorm2d(256)\n",
    "\n",
    "        self.BatchNorm2d4 = nn.BatchNorm2d(120)\n",
    "\n",
    "\n",
    "\n",
    "        self.pool = nn.MaxPool2d(2, 2)\n",
    "        self.dropout = nn.Dropout(p=0)\n",
    "\n",
    "        self.fc1 = nn.Linear(256 * 3 * 3, 120)\n",
    "        self.fc2 = nn.Linear(120, 84)\n",
    "        self.fc3 = nn.Linear(84, 10)\n",
    "\n",
    "    def forward(self, x):\n",
    "        x = self.BatchNorm2d1(self.pool(F.leaky_relu(self.conv1(x))))\n",
    "        x = self.BatchNorm2d2(self.pool(F.leaky_relu(self.conv2(x))))\n",
    "        x = self.BatchNorm2d3(self.pool(F.leaky_relu(self.conv3(x))))\n",
    "        x = x.view(-1, 256 * 3 * 3)\n",
    "        x = self.dropout(F.leaky_relu(self.fc1(x)))\n",
    "        x = self.dropout(F.leaky_relu(self.fc2(x)))\n",
    "        x = self.fc3(x)\n",
    "        return x"
   ]
  },
  {
   "cell_type": "code",
   "execution_count": 4,
   "metadata": {},
   "outputs": [
    {
     "data": {
      "text/plain": [
       "True"
      ]
     },
     "execution_count": 4,
     "metadata": {},
     "output_type": "execute_result"
    }
   ],
   "source": [
    "device = 'cuda' if torch.cuda.is_available() else 'cpu'\n",
    "#net = mobilenet_v2()\n",
    "#net.classifier = nn.Linear(1280, 10)\n",
    "net = Net()\n",
    "net.to(device)\n",
    "next(net.parameters()).is_cuda"
   ]
  },
  {
   "cell_type": "code",
   "execution_count": 5,
   "metadata": {},
   "outputs": [],
   "source": [
    "import torch.optim as optim\n",
    "\n",
    "criterion = nn.CrossEntropyLoss()\n",
    "optimizer = optim.SGD(net.parameters(), lr=lr, momentum=momentum)"
   ]
  },
  {
   "cell_type": "code",
   "execution_count": 6,
   "metadata": {},
   "outputs": [
    {
     "name": "stdout",
     "output_type": "stream",
     "text": [
      "ClearML Task: created new task id=e6eaf1da80cf479e92688cf0489221af\n",
      "2023-08-11 14:05:56,301 - clearml.Task - INFO - Storing jupyter notebook directly as code\n",
      "2023-08-11 14:05:56,385 - clearml.Repository Detection - WARNING - Can't get branch information for git repo in c:\\Users\\grk\\git\\parametrization\n",
      "2023-08-11 14:05:56,411 - clearml.Repository Detection - WARNING - Can't get commit information for git repo in c:\\Users\\grk\\git\\parametrization\n",
      "2023-08-11 14:05:56,510 - clearml.Repository Detection - WARNING - Can't get diff information for git repo in c:\\Users\\grk\\git\\parametrization\n",
      "ClearML results page: https://app.clear.ml/projects/f88e6dc889294a42833934ab069b799f/experiments/e6eaf1da80cf479e92688cf0489221af/output/log\n"
     ]
    }
   ],
   "source": [
    "task_name = f'noMLP_batch{batch_size}_lr{lr}_epochs{epochs}_simple_convnet'\n",
    "task = Task.init(project_name=\"mlp_parametrization\", task_name=task_name)\n",
    "\n",
    "configuration_dict = task.connect(\n",
    "    configuration_dict\n",
    ")\n",
    "logger = task.get_logger()"
   ]
  },
  {
   "cell_type": "code",
   "execution_count": 8,
   "metadata": {},
   "outputs": [
    {
     "name": "stderr",
     "output_type": "stream",
     "text": [
      "100%|██████████| 782/782 [00:25<00:00, 30.25it/s]\n",
      "100%|██████████| 782/782 [00:19<00:00, 40.47it/s]\n",
      "100%|██████████| 782/782 [00:18<00:00, 41.45it/s]\n",
      "100%|██████████| 782/782 [00:18<00:00, 41.53it/s]\n",
      "100%|██████████| 782/782 [00:19<00:00, 39.86it/s]\n",
      "100%|██████████| 782/782 [00:19<00:00, 39.31it/s]\n",
      "100%|██████████| 782/782 [00:18<00:00, 41.66it/s]\n",
      "100%|██████████| 782/782 [00:18<00:00, 41.26it/s]\n",
      "100%|██████████| 782/782 [00:19<00:00, 40.07it/s]\n",
      "100%|██████████| 782/782 [00:20<00:00, 38.65it/s]\n"
     ]
    }
   ],
   "source": [
    "for epoch in range(epochs):  # loop over the dataset multiple times\n",
    "\n",
    "    running_loss = 0.0\n",
    "    for i, data in enumerate(tqdm(trainloader)):\n",
    "        # get the inputs; data is a list of [inputs, labels]\n",
    "        inputs, labels = data\n",
    "        # zero the parameter gradients\n",
    "        optimizer.zero_grad()\n",
    "\n",
    "        # forward + backward + optimize\n",
    "        outputs = net(inputs.to(device))\n",
    "        loss = criterion(outputs, labels.to(device))\n",
    "        loss.backward()\n",
    "        optimizer.step()\n",
    "\n",
    "        # print statistics\n",
    "        running_loss += loss.item()\n",
    "        if i % 50 == 49:    # print every 2000 mini-batches\n",
    "            logger.report_scalar(\n",
    "                title=\"Loss\",\n",
    "                series=\"running_loss\",\n",
    "                iteration=(i + 1) + iterations_in_epoch * (epoch + 1),\n",
    "                value=running_loss / 50,\n",
    "            )\n",
    "            running_loss = 0.0"
   ]
  },
  {
   "cell_type": "code",
   "execution_count": 9,
   "metadata": {},
   "outputs": [
    {
     "name": "stdout",
     "output_type": "stream",
     "text": [
      "Accuracy of the network on the 10000 test images: 73 %\n"
     ]
    }
   ],
   "source": [
    "correct = 0\n",
    "total = 0\n",
    "# since we're not training, we don't need to calculate the gradients for our outputs\n",
    "with torch.no_grad():\n",
    "    for data in testloader:\n",
    "        images, labels = data\n",
    "        # calculate outputs by running images through the network\n",
    "        outputs = net(images.to(device))\n",
    "        # the class with the highest energy is what we choose as prediction\n",
    "        _, predicted = torch.max(outputs.data, 1)\n",
    "        total += labels.size(0)\n",
    "        correct += (predicted.cpu() == labels).sum().item()\n",
    "\n",
    "print(f'Accuracy of the network on the 10000 test images: {100 * correct // total} %')\n",
    "logger.report_scalar(\n",
    "    title=\"Metrics\",\n",
    "    series=\"accuracy\",\n",
    "    iteration=len(trainset),\n",
    "    value=100 * correct // total,\n",
    ")"
   ]
  },
  {
   "cell_type": "code",
   "execution_count": null,
   "metadata": {},
   "outputs": [
    {
     "name": "stdout",
     "output_type": "stream",
     "text": [
      "Accuracy for class: plane is 66.8 %\n",
      "Accuracy for class: car   is 60.3 %\n",
      "Accuracy for class: bird  is 43.1 %\n",
      "Accuracy for class: cat   is 36.5 %\n",
      "Accuracy for class: deer  is 55.0 %\n",
      "Accuracy for class: dog   is 49.3 %\n",
      "Accuracy for class: frog  is 63.3 %\n",
      "Accuracy for class: horse is 65.0 %\n",
      "Accuracy for class: ship  is 65.9 %\n",
      "Accuracy for class: truck is 67.0 %\n"
     ]
    }
   ],
   "source": [
    "correct_pred = {classname: 0 for classname in classes}\n",
    "total_pred = {classname: 0 for classname in classes}\n",
    "\n",
    "# again no gradients needed\n",
    "with torch.no_grad():\n",
    "    for data in testloader:\n",
    "        images, labels = data\n",
    "        outputs = net(images.to(device))\n",
    "        _, predictions = torch.max(outputs, 1)\n",
    "        # collect the correct predictions for each class\n",
    "        for label, prediction in zip(labels, predictions):\n",
    "            if label == prediction:\n",
    "                correct_pred[classes[label]] += 1\n",
    "            total_pred[classes[label]] += 1\n",
    "\n",
    "\n",
    "# print accuracy for each class\n",
    "for classname, correct_count in correct_pred.items():\n",
    "    accuracy = 100 * float(correct_count) / total_pred[classname]\n",
    "    print(f'Accuracy for class: {classname:5s} is {accuracy:.1f} %')"
   ]
  }
 ],
 "metadata": {
  "kernelspec": {
   "display_name": "Python 3",
   "language": "python",
   "name": "python3"
  },
  "language_info": {
   "codemirror_mode": {
    "name": "ipython",
    "version": 3
   },
   "file_extension": ".py",
   "mimetype": "text/x-python",
   "name": "python",
   "nbconvert_exporter": "python",
   "pygments_lexer": "ipython3",
   "version": "3.8.0"
  },
  "orig_nbformat": 4
 },
 "nbformat": 4,
 "nbformat_minor": 2
}
